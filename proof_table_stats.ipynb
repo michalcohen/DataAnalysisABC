{
 "cells": [
  {
   "cell_type": "code",
   "execution_count": 1,
   "metadata": {},
   "outputs": [],
   "source": [
    "import numpy as np\n",
    "from matplotlib import pyplot as plt\n",
    "import os\n",
    "import pandas as pd\n",
    "import tqdm\n",
    "from multiprocess import Pool\n",
    "from pandas import DataFrame as df\n",
    "from os.path import join\n",
    "import matplotlib\n",
    "import matplotlib.pyplot as plt\n",
    "import seaborn as sns\n",
    "\n",
    "%matplotlib inline\n",
    "%load_ext autoreload\n",
    "%autoreload 2"
   ]
  },
  {
   "cell_type": "code",
   "execution_count": 2,
   "metadata": {},
   "outputs": [
    {
     "name": "stderr",
     "output_type": "stream",
     "text": [
      "100%|██████████| 687/687 [1:21:22<00:00,  7.11s/it]   \n"
     ]
    }
   ],
   "source": [
    "dirname = \"../abc/beem\"\n",
    "frames_list = [filename for filename in os.listdir(dirname) if filename.endswith(\".aig\")]\n",
    "max_pool = 12\n",
    "\n",
    "        \n",
    "def process_aig(f):\n",
    "    os.system(\"cd ../abc && ./abc -c \\\"r \" + os.path.join(\"beem\", f) + \"; dprove\\\"\")\n",
    "    return f\n",
    "\n",
    "with Pool(max_pool) as p:\n",
    "    pool_outputs = list(\n",
    "        tqdm.tqdm(\n",
    "            p.imap(process_aig,\n",
    "                   frames_list),\n",
    "            total=len(frames_list)\n",
    "        )\n",
    "    )"
   ]
  },
  {
   "cell_type": "code",
   "execution_count": 13,
   "metadata": {},
   "outputs": [
    {
     "name": "stderr",
     "output_type": "stream",
     "text": [
      "100%|██████████| 522/522 [00:00<00:00, 663.28it/s]\n"
     ]
    },
    {
     "data": {
      "text/html": [
       "<div>\n",
       "<style scoped>\n",
       "    .dataframe tbody tr th:only-of-type {\n",
       "        vertical-align: middle;\n",
       "    }\n",
       "\n",
       "    .dataframe tbody tr th {\n",
       "        vertical-align: top;\n",
       "    }\n",
       "\n",
       "    .dataframe thead th {\n",
       "        text-align: right;\n",
       "    }\n",
       "</style>\n",
       "<table border=\"1\" class=\"dataframe\">\n",
       "  <thead>\n",
       "    <tr style=\"text-align: right;\">\n",
       "      <th></th>\n",
       "      <th>state</th>\n",
       "      <th>nRef</th>\n",
       "    </tr>\n",
       "  </thead>\n",
       "  <tbody>\n",
       "    <tr>\n",
       "      <th>0</th>\n",
       "      <td>0x7fffdc5e4c30</td>\n",
       "      <td>8</td>\n",
       "    </tr>\n",
       "    <tr>\n",
       "      <th>1</th>\n",
       "      <td>0x7fffdc5e4b60</td>\n",
       "      <td>6</td>\n",
       "    </tr>\n",
       "    <tr>\n",
       "      <th>2</th>\n",
       "      <td>0x7fffdc5e47e0</td>\n",
       "      <td>11</td>\n",
       "    </tr>\n",
       "    <tr>\n",
       "      <th>3</th>\n",
       "      <td>0x7fffdc5e4420</td>\n",
       "      <td>33</td>\n",
       "    </tr>\n",
       "    <tr>\n",
       "      <th>4</th>\n",
       "      <td>0x7fffdc5e3fb0</td>\n",
       "      <td>17</td>\n",
       "    </tr>\n",
       "    <tr>\n",
       "      <th>...</th>\n",
       "      <td>...</td>\n",
       "      <td>...</td>\n",
       "    </tr>\n",
       "    <tr>\n",
       "      <th>3585</th>\n",
       "      <td>0x7fffe09ffcb0</td>\n",
       "      <td>2</td>\n",
       "    </tr>\n",
       "    <tr>\n",
       "      <th>3586</th>\n",
       "      <td>0x7fffe032cdd0</td>\n",
       "      <td>6</td>\n",
       "    </tr>\n",
       "    <tr>\n",
       "      <th>3587</th>\n",
       "      <td>0x7fffe032d4b0</td>\n",
       "      <td>8</td>\n",
       "    </tr>\n",
       "    <tr>\n",
       "      <th>3588</th>\n",
       "      <td>0x7fffe0a63190</td>\n",
       "      <td>1</td>\n",
       "    </tr>\n",
       "    <tr>\n",
       "      <th>3589</th>\n",
       "      <td>0x7fffe09958b0</td>\n",
       "      <td>11896</td>\n",
       "    </tr>\n",
       "  </tbody>\n",
       "</table>\n",
       "<p>524200 rows × 2 columns</p>\n",
       "</div>"
      ],
      "text/plain": [
       "               state   nRef\n",
       "0     0x7fffdc5e4c30      8\n",
       "1     0x7fffdc5e4b60      6\n",
       "2     0x7fffdc5e47e0     11\n",
       "3     0x7fffdc5e4420     33\n",
       "4     0x7fffdc5e3fb0     17\n",
       "...              ...    ...\n",
       "3585  0x7fffe09ffcb0      2\n",
       "3586  0x7fffe032cdd0      6\n",
       "3587  0x7fffe032d4b0      8\n",
       "3588  0x7fffe0a63190      1\n",
       "3589  0x7fffe09958b0  11896\n",
       "\n",
       "[524200 rows x 2 columns]"
      ]
     },
     "execution_count": 13,
     "metadata": {},
     "output_type": "execute_result"
    }
   ],
   "source": [
    "dirname = \"../abc/beem\"\n",
    "file_list = [filename for filename in os.listdir(dirname) if filename.endswith(\".csv\")]\n",
    "max_pool = 12\n",
    "\n",
    "def process_file(file):\n",
    "    x = pd.read_csv(join(dirname, file))\n",
    "    x = x.drop(x[x.nRef < 0].index)\n",
    "    return x\n",
    "    \n",
    "with Pool(max_pool) as p:\n",
    "    pool_outputs = list(\n",
    "        tqdm.tqdm(\n",
    "            p.imap(process_file,\n",
    "                   file_list),\n",
    "            total=len(file_list)\n",
    "        )\n",
    "    )\n",
    "tot = pd.concat(pool_outputs)\n",
    "tot"
   ]
  },
  {
   "cell_type": "code",
   "execution_count": 15,
   "metadata": {},
   "outputs": [
    {
     "data": {
      "text/plain": [
       "<AxesSubplot:xlabel='nRef', ylabel='Count'>"
      ]
     },
     "execution_count": 15,
     "metadata": {},
     "output_type": "execute_result"
    },
    {
     "data": {
      "image/png": "[encoded data removed]",
      "text/plain": [
       "<Figure size 432x288 with 1 Axes>"
      ]
     },
     "metadata": {
      "needs_background": "light"
     },
     "output_type": "display_data"
    }
   ],
   "source": [
    "plt.ylim(0, 10000)\n",
    "sns.histplot(data=tot, x=\"nRef\", kde=True)"
   ]
  },
  {
   "cell_type": "code",
   "execution_count": null,
   "metadata": {},
   "outputs": [],
   "source": [
    "dirname = \"../abc/beem\"\n",
    "file_list = [filename for filename in os.listdir(dirname) if filename.endswith(\".csv\")]\n",
    "max_pool = 12\n",
    "\n",
    "#def process_file(file):\n",
    "#    x = pd.read_csv(join(dirname, file))['cube']\n",
    "#    normalized_df=(x-x.min())/(x.max()-x.min())\n",
    "#    return normalized_df.kurt()\n",
    "\n",
    "def process_file\n",
    "\n",
    "with Pool(max_pool) as p:\n",
    "    pool_outputs = list(\n",
    "        tqdm.tqdm(\n",
    "            p.imap(process_file,\n",
    "                   file_list),\n",
    "            total=len(file_list)\n",
    "        )\n",
    "    )\n",
    "pool_outputs\n",
    "sns.displot([out for out in pool_outputs if out < 500])"
   ]
  }
 ],
 "metadata": {
  "kernelspec": {
   "display_name": "Python 3",
   "language": "python",
   "name": "python3"
  },
  "language_info": {
   "codemirror_mode": {
    "name": "ipython",
    "version": 3
   },
   "file_extension": ".py",
   "mimetype": "text/x-python",
   "name": "python",
   "nbconvert_exporter": "python",
   "pygments_lexer": "ipython3",
   "version": "3.8.5"
  }
 },
 "nbformat": 4,
 "nbformat_minor": 4
}
