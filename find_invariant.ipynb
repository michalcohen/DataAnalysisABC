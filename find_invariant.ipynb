{
  "nbformat": 4,
  "nbformat_minor": 0,
  "metadata": {
    "kernelspec": {
      "display_name": "Python 3",
      "language": "python",
      "name": "python3"
    },
    "language_info": {
      "codemirror_mode": {
        "name": "ipython",
        "version": 3
      },
      "file_extension": ".py",
      "mimetype": "text/x-python",
      "name": "python",
      "nbconvert_exporter": "python",
      "pygments_lexer": "ipython3",
      "version": "3.8.5"
    },
    "colab": {
      "name": "find_invariant.ipynb",
      "provenance": [],
      "include_colab_link": true
    }
  },
  "cells": [
    {
      "cell_type": "markdown",
      "metadata": {
        "id": "view-in-github",
        "colab_type": "text"
      },
      "source": [
        "<a href=\"https://colab.research.google.com/github/michalcohen/DataAnalysisABC/blob/main/find_invariant.ipynb\" target=\"_parent\"><img src=\"https://colab.research.google.com/assets/colab-badge.svg\" alt=\"Open In Colab\"/></a>"
      ]
    },
    {
      "cell_type": "code",
      "metadata": {
        "id": "cnInx6faanTM"
      },
      "source": [
        "# installs\n",
        "!pip install jupyter-dash\n",
        "!pip install dash-cytoscape"
      ],
      "execution_count": null,
      "outputs": []
    },
    {
      "cell_type": "code",
      "metadata": {
        "id": "VJqMMkFjdTjG"
      },
      "source": [
        "# imports\n",
        "import plotly.express as px\n",
        "from jupyter_dash import JupyterDash\n",
        "import dash_core_components as dcc\n",
        "import dash_html_components as html\n",
        "from dash.dependencies import Input, Output\n",
        "import dash\n",
        "import dash_cytoscape as cyto\n",
        "import urllib.request, json"
      ],
      "execution_count": 4,
      "outputs": []
    },
    {
      "cell_type": "code",
      "metadata": {
        "id": "WKSAp4RDanTO",
        "colab": {
          "base_uri": "https://localhost:8080/"
        },
        "outputId": "285775ff-44ad-4059-a4d8-e2346764f414"
      },
      "source": [
        "# Load Data\n",
        "df = px.data.tips()\n",
        "with urllib.request.urlopen(\"https://raw.githubusercontent.com/michalcohen/DataAnalysisABC/main/pass1.json\") as url:\n",
        "    data = json.loads(url.read().decode())\n",
        "elements = data[\"nodes\"] + data[\"edges\"]\n",
        "elements[10:40]"
      ],
      "execution_count": 8,
      "outputs": [
        {
          "output_type": "execute_result",
          "data": {
            "text/plain": [
              "[{'classes': 'non_inv', 'data': {'id': '4149', 'label': '6'}},\n",
              " {'classes': 'non_inv', 'data': {'id': '4148', 'label': '1'}},\n",
              " {'classes': 'inv', 'data': {'id': '4147', 'label': '0'}},\n",
              " {'classes': 'non_inv',\n",
              "  'data': {'id': '4145', 'label': '6', 'parent': '4165'}},\n",
              " {'classes': 'inv', 'data': {'id': '4142', 'label': '6'}},\n",
              " {'classes': 'inv', 'data': {'id': '4141', 'label': '6'}},\n",
              " {'classes': 'non_inv', 'data': {'id': '4140', 'label': '1'}},\n",
              " {'classes': 'non_inv', 'data': {'id': '4135', 'label': '6'}},\n",
              " {'classes': 'non_inv', 'data': {'id': '4134', 'label': '1'}},\n",
              " {'classes': 'inv', 'data': {'id': '4133', 'label': '5'}},\n",
              " {'classes': 'non_inv', 'data': {'id': '4132', 'label': '1'}},\n",
              " {'classes': 'non_inv', 'data': {'id': '4131', 'label': '6'}},\n",
              " {'classes': 'inv', 'data': {'id': '4127', 'label': '6'}},\n",
              " {'classes': 'non_inv', 'data': {'id': '4121', 'label': '6'}},\n",
              " {'classes': 'non_inv',\n",
              "  'data': {'id': '4117', 'label': '6', 'parent': '4143'}},\n",
              " {'classes': 'inv', 'data': {'id': '4114', 'label': '6'}},\n",
              " {'classes': 'non_inv', 'data': {'id': '4113', 'label': '1'}},\n",
              " {'classes': 'non_inv', 'data': {'id': '4111', 'label': '1'}},\n",
              " {'classes': 'inv', 'data': {'id': '4110', 'label': '6'}},\n",
              " {'classes': 'inv', 'data': {'id': '4106', 'label': '5'}},\n",
              " {'classes': 'non_inv', 'data': {'id': '4105', 'label': '1'}},\n",
              " {'classes': 'inv', 'data': {'id': '4102', 'label': '6'}},\n",
              " {'classes': 'non_inv', 'data': {'id': '4099', 'label': '5'}},\n",
              " {'classes': 'inv', 'data': {'id': '4098', 'label': '5'}},\n",
              " {'classes': 'non_inv', 'data': {'id': '4097', 'label': '1'}},\n",
              " {'classes': 'non_inv', 'data': {'id': '4096', 'label': '6'}},\n",
              " {'classes': 'inv', 'data': {'id': '4094', 'label': '6'}},\n",
              " {'classes': 'non_inv', 'data': {'id': '4093', 'label': '1'}},\n",
              " {'classes': 'inv', 'data': {'id': '4091', 'label': '6'}},\n",
              " {'classes': 'inv', 'data': {'id': '4089', 'label': '6'}}]"
            ]
          },
          "metadata": {
            "tags": []
          },
          "execution_count": 8
        }
      ]
    },
    {
      "cell_type": "code",
      "metadata": {
        "id": "DHuHtVwYanTQ",
        "colab": {
          "base_uri": "https://localhost:8080/",
          "height": 671
        },
        "outputId": "6341aae8-c8cd-46f0-9b1b-cc83f00dddd4"
      },
      "source": [
        "# Build App\n",
        "app = JupyterDash(__name__)\n",
        "app.layout = html.Div([\n",
        "                       html.P(\"Dash Cytoscape:\"),\n",
        "                       cyto.Cytoscape(id='cytoscape',\n",
        "                                      elements=elements,\n",
        "                                      layout={'name': 'breadthfirst'},\n",
        "                                      style={'width': '800px', 'height': '1000px'},\n",
        "                                      stylesheet = [\n",
        "        # Group selectors\n",
        "        {\n",
        "            'selector': 'node',\n",
        "            'style': {\n",
        "                'content': 'data(label)'\n",
        "            }\n",
        "        },\n",
        "\n",
        "        # Class selectors\n",
        "        {\n",
        "            'selector': '.inv',\n",
        "            'style': {\n",
        "                'background-color': 'red',\n",
        "                'line-color': 'red'\n",
        "            }\n",
        "        },\n",
        "        {\n",
        "            'selector': '.non_inv',\n",
        "            'style': {\n",
        "                'background-color': 'blue',\n",
        "                'line-color': 'blue'\n",
        "            }\n",
        "        }\n",
        "    ]\n",
        "                                      )\n",
        "                       ])\n",
        "app.run_server(mode='inline')"
      ],
      "execution_count": 9,
      "outputs": [
        {
          "output_type": "display_data",
          "data": {
            "application/javascript": [
              "(async (port, path, width, height, cache, element) => {\n",
              "    if (!google.colab.kernel.accessAllowed && !cache) {\n",
              "      return;\n",
              "    }\n",
              "    element.appendChild(document.createTextNode(''));\n",
              "    const url = await google.colab.kernel.proxyPort(port, {cache});\n",
              "    const iframe = document.createElement('iframe');\n",
              "    iframe.src = url + path;\n",
              "    iframe.height = height;\n",
              "    iframe.width = width;\n",
              "    iframe.style.border = 0;\n",
              "    element.appendChild(iframe);\n",
              "  })(8050, \"/\", \"100%\", 650, false, window.element)"
            ],
            "text/plain": [
              "<IPython.core.display.Javascript object>"
            ]
          },
          "metadata": {
            "tags": []
          }
        }
      ]
    },
    {
      "cell_type": "code",
      "metadata": {
        "id": "tGfvbDMJg1hP"
      },
      "source": [
        ""
      ],
      "execution_count": null,
      "outputs": []
    }
  ]
}