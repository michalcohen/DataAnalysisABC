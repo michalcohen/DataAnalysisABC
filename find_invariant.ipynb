{
  "nbformat": 4,
  "nbformat_minor": 0,
  "metadata": {
    "kernelspec": {
      "display_name": "Python 3",
      "language": "python",
      "name": "python3"
    },
    "language_info": {
      "codemirror_mode": {
        "name": "ipython",
        "version": 3
      },
      "file_extension": ".py",
      "mimetype": "text/x-python",
      "name": "python",
      "nbconvert_exporter": "python",
      "pygments_lexer": "ipython3",
      "version": "3.8.5"
    },
    "colab": {
      "name": "find_invariant.ipynb",
      "provenance": [],
      "include_colab_link": true
    }
  },
  "cells": [
    {
      "cell_type": "markdown",
      "metadata": {
        "id": "view-in-github",
        "colab_type": "text"
      },
      "source": [
        "<a href=\"https://colab.research.google.com/github/michalcohen/DataAnalysisABC/blob/main/find_invariant.ipynb\" target=\"_parent\"><img src=\"https://colab.research.google.com/assets/colab-badge.svg\" alt=\"Open In Colab\"/></a>"
      ]
    },
    {
      "cell_type": "code",
      "metadata": {
        "id": "cnInx6faanTM"
      },
      "source": [
        "import numpy as np\n",
        "from matplotlib import pyplot as plt\n",
        "import os\n",
        "import pandas as pd\n",
        "import tqdm\n",
        "from pandas import DataFrame as df\n",
        "from os.path import join\n",
        "import matplotlib\n",
        "import matplotlib.pyplot as plt\n",
        "import seaborn as sns\n",
        "from typing import Dict, List, Tuple\n",
        "import json\n",
        "import pandas as pd\n",
        "\n",
        "%matplotlib inline\n",
        "%load_ext autoreload\n",
        "%autoreload 2"
      ],
      "execution_count": null,
      "outputs": []
    },
    {
      "cell_type": "code",
      "metadata": {
        "id": "VJqMMkFjdTjG"
      },
      "source": [
        "! pip install --user graphistry[bolt]"
      ],
      "execution_count": null,
      "outputs": []
    },
    {
      "cell_type": "code",
      "metadata": {
        "id": "--gU8Sk1dgiy"
      },
      "source": [
        "import graphistry\n",
        "graphistry.register(api=3, username='michal', password='dbTrw7BDuQGZ@CF')"
      ],
      "execution_count": 12,
      "outputs": []
    },
    {
      "cell_type": "code",
      "metadata": {
        "id": "WKSAp4RDanTO"
      },
      "source": [
        "f = pd.read_csv(\"https://raw.githubusercontent.com/michalcohen/DataAnalysisABC/main/pass1.csv\")"
      ],
      "execution_count": 17,
      "outputs": []
    },
    {
      "cell_type": "code",
      "metadata": {
        "id": "DHuHtVwYanTQ",
        "colab": {
          "base_uri": "https://localhost:8080/",
          "height": 543
        },
        "outputId": "d319ff0e-c723-453a-dee7-8c255a8db638"
      },
      "source": [
        "# Configure graph to use the source/target columns as source/destination of edges\n",
        "g = graphistry.bind(source='source', destination='target').edges(f)\n",
        "\n",
        "# Upload & plot\n",
        "g.plot()"
      ],
      "execution_count": 18,
      "outputs": [
        {
          "output_type": "execute_result",
          "data": {
            "text/html": [
              "\n",
              "            <iframe id=\"2603b0f6-7cc4-4563-a6bc-5708a3bd8a67\" src=\"https://hub.graphistry.com/graph/graph.html?dataset=7966ef6409ef463d811f937df9447986&type=arrow&viztoken=09e88cd8-6f6a-46ba-9b2f-1397bae8af8a&usertag=bf95bb67-pygraphistry-0.18.1&splashAfter=1617201107&info=true\"\n",
              "                    allowfullscreen=\"true\" webkitallowfullscreen=\"true\" mozallowfullscreen=\"true\"\n",
              "                    oallowfullscreen=\"true\" msallowfullscreen=\"true\"\n",
              "                    style=\"width:100%; height:500px; border: 1px solid #DDD; overflow: hidden\">\n",
              "            </iframe>\n",
              "        \n",
              "            <script>\n",
              "                try {\n",
              "                  $(\"#2603b0f6-7cc4-4563-a6bc-5708a3bd8a67\").bind('mousewheel', function(e) { e.preventDefault(); });\n",
              "                } catch (e) { console.error('exn catching scroll', e); }\n",
              "            </script>\n",
              "        "
            ],
            "text/plain": [
              "<IPython.core.display.HTML object>"
            ]
          },
          "metadata": {
            "tags": []
          },
          "execution_count": 18
        }
      ]
    },
    {
      "cell_type": "code",
      "metadata": {
        "id": "tGfvbDMJg1hP"
      },
      "source": [
        ""
      ],
      "execution_count": null,
      "outputs": []
    }
  ]
}