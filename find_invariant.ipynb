{
  "nbformat": 4,
  "nbformat_minor": 0,
  "metadata": {
    "kernelspec": {
      "display_name": "Python 3",
      "language": "python",
      "name": "python3"
    },
    "language_info": {
      "codemirror_mode": {
        "name": "ipython",
        "version": 3
      },
      "file_extension": ".py",
      "mimetype": "text/x-python",
      "name": "python",
      "nbconvert_exporter": "python",
      "pygments_lexer": "ipython3",
      "version": "3.8.5"
    },
    "colab": {
      "name": "find_invariant.ipynb",
      "provenance": [],
      "include_colab_link": true
    }
  },
  "cells": [
    {
      "cell_type": "markdown",
      "metadata": {
        "id": "view-in-github",
        "colab_type": "text"
      },
      "source": [
        "<a href=\"https://colab.research.google.com/github/michalcohen/DataAnalysisABC/blob/main/find_invariant.ipynb\" target=\"_parent\"><img src=\"https://colab.research.google.com/assets/colab-badge.svg\" alt=\"Open In Colab\"/></a>"
      ]
    },
    {
      "cell_type": "code",
      "metadata": {
        "id": "cnInx6faanTM"
      },
      "source": [
        "# installs\n",
        "!pip install jupyter-dash\n",
        "!pip install dash-cytoscape"
      ],
      "execution_count": null,
      "outputs": []
    },
    {
      "cell_type": "code",
      "metadata": {
        "id": "VJqMMkFjdTjG"
      },
      "source": [
        "# imports\n",
        "import plotly.express as px\n",
        "from jupyter_dash import JupyterDash\n",
        "import dash_core_components as dcc\n",
        "import dash_html_components as html\n",
        "from dash.dependencies import Input, Output\n",
        "import dash\n",
        "import dash_cytoscape as cyto\n",
        "import urllib.request, json\n",
        "import statistics"
      ],
      "execution_count": 2,
      "outputs": []
    },
    {
      "cell_type": "code",
      "metadata": {
        "id": "WKSAp4RDanTO"
      },
      "source": [
        "# Load Data\n",
        "df = px.data.tips()\n",
        "with urllib.request.urlopen(\"https://raw.githubusercontent.com/michalcohen/DataAnalysisABC/main/pass1.json\") as url:\n",
        "    data = json.loads(url.read().decode())"
      ],
      "execution_count": 3,
      "outputs": []
    },
    {
      "cell_type": "code",
      "metadata": {
        "id": "Y6ySZ1XdsdUF",
        "outputId": "8ecb8f02-b1a6-455b-9896-2a8f13968fc7",
        "colab": {
          "base_uri": "https://localhost:8080/"
        }
      },
      "source": [
        "graph = {node[\"data\"][\"id\"]: {\"neighbors\": list(), \"inv\": node[\"classes\"].startswith(\"inv\"), \"origin\": int(node[\"classes\"].split(\" \")[-1])} for node in data[\"nodes\"]}\n",
        "for edge in data[\"edges\"]:\n",
        "  graph[edge[\"data\"][\"source\"]][\"neighbors\"].append(edge[\"data\"][\"target\"])\n",
        "degrees = []\n",
        "for node_id, node_content in graph.items():\n",
        "  node_content['degree'] = len(node_content[\"neighbors\"])\n",
        "  degrees.append(node_content['degree'])\n",
        "std_deg, mean_deg, median_deg, max_deg = statistics.stdev(degrees), statistics.mean(degrees), statistics.median(degrees), max(degrees)\n",
        "high_deg_nodes = [node_id for node_id, node_content in graph.items() if node_content['degree'] > mean_deg + std_deg]\n",
        "high_deg_nodes[-10: -1]"
      ],
      "execution_count": 4,
      "outputs": [
        {
          "output_type": "execute_result",
          "data": {
            "text/plain": [
              "['2145', '2042', '1502', '2106', '2192', '2054', '2035', '2170', '2136']"
            ]
          },
          "metadata": {
            "tags": []
          },
          "execution_count": 4
        }
      ]
    },
    {
      "cell_type": "code",
      "metadata": {
        "colab": {
          "base_uri": "https://localhost:8080/"
        },
        "id": "hk_PjTxFtly9",
        "outputId": "a5cf474f-464c-4df9-9c26-60c55b51deee"
      },
      "source": [
        "invariants = [node_id for node_id, node_content in graph.items() if node_content[\"inv\"]]\n",
        "len(invariants) / len(graph)\n",
        "\n"
      ],
      "execution_count": 5,
      "outputs": [
        {
          "output_type": "execute_result",
          "data": {
            "text/plain": [
              "0.4405430711610487"
            ]
          },
          "metadata": {
            "tags": []
          },
          "execution_count": 5
        }
      ]
    },
    {
      "cell_type": "code",
      "metadata": {
        "id": "7LiEY7cuZyaw",
        "outputId": "ce6727d0-9f22-4926-9574-51238f8fda7e",
        "colab": {
          "base_uri": "https://localhost:8080/"
        }
      },
      "source": [
        "group1 = [node_id for node_id, node_content in graph.items() if node_content[\"origin\"] == 1]\n",
        "len(group1) / len(graph)"
      ],
      "execution_count": 6,
      "outputs": [
        {
          "output_type": "execute_result",
          "data": {
            "text/plain": [
              "0.9948501872659176"
            ]
          },
          "metadata": {
            "tags": []
          },
          "execution_count": 6
        }
      ]
    },
    {
      "cell_type": "code",
      "metadata": {
        "id": "DHuHtVwYanTQ",
        "colab": {
          "base_uri": "https://localhost:8080/",
          "height": 671
        },
        "outputId": "c12713a9-4ce4-46bb-86c7-3b40d0bac08a"
      },
      "source": [
        "# Build App\n",
        "app = JupyterDash(__name__)\n",
        "elements = data[\"nodes\"] + data[\"edges\"]\n",
        "app.layout = html.Div([\n",
        "                       html.P(\"Dash Cytoscape:\"),\n",
        "                       cyto.Cytoscape(id='cytoscape',\n",
        "                                      elements=elements,\n",
        "                                      layout={'name': 'breadthfirst'},\n",
        "                                      style={'width': '800px', 'height': '1000px'},\n",
        "                                      stylesheet = [\n",
        "        # Group selectors\n",
        "        {\n",
        "            'selector': 'node',\n",
        "            'style': {\n",
        "                'content': 'data(label)'\n",
        "            }\n",
        "        },\n",
        "        {\n",
        "            'selector': 'edge',\n",
        "            'style': {\n",
        "                'target-arrow-color': '#ccc',\n",
        "                'target-arrow-shape': 'triangle'\n",
        "            }\n",
        "        },\n",
        "        # Class selectors\n",
        "        {\n",
        "            'selector': '.inv',\n",
        "            'style': {\n",
        "                'background-color': 'red'\n",
        "            }\n",
        "        },\n",
        "        {\n",
        "            'selector': '.non_inv',\n",
        "            'style': {\n",
        "                'background-color': 'blue'\n",
        "            }\n",
        "        },\n",
        "        {\n",
        "            'selector': '.1',\n",
        "            'style': {\n",
        "                'line-color': 'black'\n",
        "            }\n",
        "        },\n",
        "        {\n",
        "            'selector': '.2',\n",
        "            'style': {\n",
        "                'line-color': 'yellow'\n",
        "            }\n",
        "        },\n",
        "        {\n",
        "            'selector': '.3',\n",
        "            'style': {\n",
        "                'line-color': 'green'\n",
        "            }\n",
        "        },\n",
        "        {\n",
        "            'selector': '.4',\n",
        "            'style': {\n",
        "                'background-color': 'purple'\n",
        "            }\n",
        "        }\n",
        "    ]\n",
        "                                      )\n",
        "                       ])\n",
        "app.run_server(mode='inline')"
      ],
      "execution_count": 7,
      "outputs": [
        {
          "output_type": "display_data",
          "data": {
            "application/javascript": [
              "(async (port, path, width, height, cache, element) => {\n",
              "    if (!google.colab.kernel.accessAllowed && !cache) {\n",
              "      return;\n",
              "    }\n",
              "    element.appendChild(document.createTextNode(''));\n",
              "    const url = await google.colab.kernel.proxyPort(port, {cache});\n",
              "    const iframe = document.createElement('iframe');\n",
              "    iframe.src = url + path;\n",
              "    iframe.height = height;\n",
              "    iframe.width = width;\n",
              "    iframe.style.border = 0;\n",
              "    element.appendChild(iframe);\n",
              "  })(8050, \"/\", \"100%\", 650, false, window.element)"
            ],
            "text/plain": [
              "<IPython.core.display.Javascript object>"
            ]
          },
          "metadata": {
            "tags": []
          }
        }
      ]
    },
    {
      "cell_type": "code",
      "metadata": {
        "id": "tGfvbDMJg1hP"
      },
      "source": [
        ""
      ],
      "execution_count": null,
      "outputs": []
    }
  ]
}