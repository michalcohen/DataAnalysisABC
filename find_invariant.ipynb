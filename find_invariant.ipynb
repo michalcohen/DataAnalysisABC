{
  "nbformat": 4,
  "nbformat_minor": 0,
  "metadata": {
    "kernelspec": {
      "display_name": "Python 3",
      "language": "python",
      "name": "python3"
    },
    "language_info": {
      "codemirror_mode": {
        "name": "ipython",
        "version": 3
      },
      "file_extension": ".py",
      "mimetype": "text/x-python",
      "name": "python",
      "nbconvert_exporter": "python",
      "pygments_lexer": "ipython3",
      "version": "3.8.5"
    },
    "colab": {
      "name": "find_invariant.ipynb",
      "provenance": [],
      "include_colab_link": true
    }
  },
  "cells": [
    {
      "cell_type": "markdown",
      "metadata": {
        "id": "view-in-github",
        "colab_type": "text"
      },
      "source": [
        "<a href=\"https://colab.research.google.com/github/michalcohen/DataAnalysisABC/blob/main/find_invariant.ipynb\" target=\"_parent\"><img src=\"https://colab.research.google.com/assets/colab-badge.svg\" alt=\"Open In Colab\"/></a>"
      ]
    },
    {
      "cell_type": "code",
      "metadata": {
        "id": "cnInx6faanTM"
      },
      "source": [
        "# installs\n",
        "!pip install jupyter-dash\n",
        "!pip install dash-cytoscape"
      ],
      "execution_count": null,
      "outputs": []
    },
    {
      "cell_type": "code",
      "metadata": {
        "id": "VJqMMkFjdTjG"
      },
      "source": [
        "# imports\n",
        "import plotly.express as px\n",
        "from jupyter_dash import JupyterDash\n",
        "import dash_core_components as dcc\n",
        "import dash_html_components as html\n",
        "from dash.dependencies import Input, Output\n",
        "import dash\n",
        "import dash_cytoscape as cyto\n",
        "import urllib.request, json\n",
        "import statistics"
      ],
      "execution_count": 2,
      "outputs": []
    },
    {
      "cell_type": "code",
      "metadata": {
        "id": "WKSAp4RDanTO"
      },
      "source": [
        "# Load Data\n",
        "df = px.data.tips()\n",
        "with urllib.request.urlopen(\"https://raw.githubusercontent.com/michalcohen/DataAnalysisABC/main/pass1.json\") as url:\n",
        "    data = json.loads(url.read().decode())"
      ],
      "execution_count": 3,
      "outputs": []
    },
    {
      "cell_type": "code",
      "metadata": {
        "id": "Y6ySZ1XdsdUF",
        "colab": {
          "base_uri": "https://localhost:8080/"
        },
        "outputId": "9f3e5cda-46e7-4a18-d8ce-2de1de4a5ebc"
      },
      "source": [
        "graph = {node[\"data\"][\"id\"]: {\"neighbors\": list(), \"inv\": node[\"classes\"].startswith(\"inv\"), \"origin\": int(node[\"classes\"].split(\" \")[-1])} for node in data[\"nodes\"]}\n",
        "for edge in data[\"edges\"]:\n",
        "  graph[edge[\"data\"][\"source\"]][\"neighbors\"].append(edge[\"data\"][\"target\"])\n",
        "degrees = []\n",
        "for node_id, node_content in graph.items():\n",
        "  node_content['degree'] = len(node_content[\"neighbors\"])\n",
        "  degrees.append(node_content['degree'])\n",
        "std_deg, mean_deg, median_deg, max_deg = statistics.stdev(degrees), statistics.mean(degrees), statistics.median(degrees), max(degrees)\n",
        "high_deg_nodes = [node_id for node_id, node_content in graph.items() if node_content['degree'] > mean_deg + std_deg]\n",
        "high_deg_nodes[-10: -1]"
      ],
      "execution_count": 4,
      "outputs": [
        {
          "output_type": "execute_result",
          "data": {
            "text/plain": [
              "['2075', '2088', '1991', '2050', '2129', '2003', '1984', '2109', '2080']"
            ]
          },
          "metadata": {
            "tags": []
          },
          "execution_count": 4
        }
      ]
    },
    {
      "cell_type": "code",
      "metadata": {
        "colab": {
          "base_uri": "https://localhost:8080/"
        },
        "id": "hk_PjTxFtly9",
        "outputId": "607e3975-d39b-47b0-ffec-db3ff0137af3"
      },
      "source": [
        "invariants = [node_id for node_id, node_content in graph.items() if node_content[\"inv\"]]\n",
        "len(invariants) / len(graph)"
      ],
      "execution_count": 5,
      "outputs": [
        {
          "output_type": "execute_result",
          "data": {
            "text/plain": [
              "0.4405430711610487"
            ]
          },
          "metadata": {
            "tags": []
          },
          "execution_count": 5
        }
      ]
    },
    {
      "cell_type": "code",
      "metadata": {
        "id": "7LiEY7cuZyaw",
        "colab": {
          "base_uri": "https://localhost:8080/"
        },
        "outputId": "ec17d90c-9156-4e39-c844-7ff544427d82"
      },
      "source": [
        "group0 = [node_id for node_id, node_content in graph.items() if node_content[\"origin\"] == 0]\n",
        "len(group0) / len(graph)"
      ],
      "execution_count": 6,
      "outputs": [
        {
          "output_type": "execute_result",
          "data": {
            "text/plain": [
              "0.9948501872659176"
            ]
          },
          "metadata": {
            "tags": []
          },
          "execution_count": 6
        }
      ]
    },
    {
      "cell_type": "markdown",
      "metadata": {
        "id": "940MfWDLltq1"
      },
      "source": [
        "0 - reduceGeneralizeReason\n",
        "1 - reducePushClauseReason\n",
        "2 - predReason\n",
        "3- noReason"
      ]
    },
    {
      "cell_type": "code",
      "metadata": {
        "id": "DHuHtVwYanTQ",
        "colab": {
          "base_uri": "https://localhost:8080/",
          "height": 671
        },
        "outputId": "e951d0ee-a0fe-494a-8964-42d9bee25e0d"
      },
      "source": [
        "# Build App\n",
        "app = JupyterDash(__name__)\n",
        "elements = data[\"nodes\"] + data[\"edges\"]\n",
        "\n",
        "styles = {\n",
        "    'pre': {\n",
        "        'border': 'thin lightgrey solid',\n",
        "        'overflowX': 'scroll'\n",
        "    }\n",
        "}\n",
        "\n",
        "\n",
        "app.layout = html.Div([\n",
        "                       html.P(\"Dash Cytoscape:\"),\n",
        "                       cyto.Cytoscape(id='cytoscape',\n",
        "                                      elements=elements,\n",
        "                                      layout={'name': 'breadthfirst'},\n",
        "                                      style={'width': '100%', 'height': '1000px'},\n",
        "                                      stylesheet = [\n",
        "                                                      # Group selectors\n",
        "                                                      {\n",
        "                                                          'selector': 'node',\n",
        "                                                          'style': {\n",
        "                                                              'label': 'data(count)'\n",
        "                                                          }\n",
        "                                                      },\n",
        "                                                      {\n",
        "                                                          'selector': 'edge',\n",
        "                                                          'style': {\n",
        "                                                              'target-arrow-color': '#ccc',\n",
        "                                                              'target-arrow-shape': 'triangle'\n",
        "                                                          }\n",
        "                                                      },\n",
        "                                                      # Class selectors\n",
        "                                                      {\n",
        "                                                          'selector': '.inv',\n",
        "                                                          'style': {\n",
        "                                                              'shape': 'circle'\n",
        "                                                          }\n",
        "                                                      },\n",
        "                                                      {\n",
        "                                                          'selector': '.non_inv',\n",
        "                                                          'style': {\n",
        "                                                              'shape': 'rectangle'\n",
        "                                                          }\n",
        "                                                      },\n",
        "                                                      {\n",
        "                                                          'selector': '.0',\n",
        "                                                          'style': {\n",
        "                                                              'background-color': 'blue'\n",
        "                                                          }\n",
        "                                                      },\n",
        "                                                      {\n",
        "                                                          'selector': '.1',\n",
        "                                                          'style': {\n",
        "                                                              'background-color': 'yellow'\n",
        "                                                          }\n",
        "                                                      },\n",
        "                                                      {\n",
        "                                                          'selector': '.2',\n",
        "                                                          'style': {\n",
        "                                                              'background-color': 'green'\n",
        "                                                          }\n",
        "                                                      },\n",
        "                                                      {\n",
        "                                                          'selector': '.3',\n",
        "                                                          'style': {\n",
        "                                                              'background-color': 'purple'\n",
        "                                                          }\n",
        "                                                      }\n",
        "                                                  ]\n",
        "                                      ),\n",
        "                       html.Pre(id='cytoscape-tapNodeData-json', style=styles['pre'])\n",
        "                       ])\n",
        "\n",
        "@app.callback(Output('cytoscape-tapNodeData-json', 'children'),\n",
        "              Input('cytoscape-event-callbacks-1', 'tapNodeData'))\n",
        "def displayTapNodeData(data):\n",
        "    return json.dumps(data, indent=2)\n",
        "\n",
        "\n",
        "app.run_server(mode='inline')"
      ],
      "execution_count": 7,
      "outputs": [
        {
          "output_type": "display_data",
          "data": {
            "application/javascript": [
              "(async (port, path, width, height, cache, element) => {\n",
              "    if (!google.colab.kernel.accessAllowed && !cache) {\n",
              "      return;\n",
              "    }\n",
              "    element.appendChild(document.createTextNode(''));\n",
              "    const url = await google.colab.kernel.proxyPort(port, {cache});\n",
              "    const iframe = document.createElement('iframe');\n",
              "    iframe.src = url + path;\n",
              "    iframe.height = height;\n",
              "    iframe.width = width;\n",
              "    iframe.style.border = 0;\n",
              "    element.appendChild(iframe);\n",
              "  })(8050, \"/\", \"100%\", 650, false, window.element)"
            ],
            "text/plain": [
              "<IPython.core.display.Javascript object>"
            ]
          },
          "metadata": {
            "tags": []
          }
        }
      ]
    },
    {
      "cell_type": "code",
      "metadata": {
        "id": "tGfvbDMJg1hP"
      },
      "source": [
        ""
      ],
      "execution_count": null,
      "outputs": []
    }
  ]
}