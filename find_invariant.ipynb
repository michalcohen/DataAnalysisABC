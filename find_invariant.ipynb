{
  "nbformat": 4,
  "nbformat_minor": 0,
  "metadata": {
    "kernelspec": {
      "display_name": "Python 3",
      "language": "python",
      "name": "python3"
    },
    "language_info": {
      "codemirror_mode": {
        "name": "ipython",
        "version": 3
      },
      "file_extension": ".py",
      "mimetype": "text/x-python",
      "name": "python",
      "nbconvert_exporter": "python",
      "pygments_lexer": "ipython3",
      "version": "3.8.5"
    },
    "colab": {
      "name": "find_invariant.ipynb",
      "provenance": [],
      "include_colab_link": true
    }
  },
  "cells": [
    {
      "cell_type": "markdown",
      "metadata": {
        "id": "view-in-github",
        "colab_type": "text"
      },
      "source": [
        "<a href=\"https://colab.research.google.com/github/michalcohen/DataAnalysisABC/blob/main/find_invariant.ipynb\" target=\"_parent\"><img src=\"https://colab.research.google.com/assets/colab-badge.svg\" alt=\"Open In Colab\"/></a>"
      ]
    },
    {
      "cell_type": "code",
      "metadata": {
        "id": "cnInx6faanTM"
      },
      "source": [
        "# installs\n",
        "!pip install jupyter-dash\n",
        "!pip install dash-cytoscape"
      ],
      "execution_count": null,
      "outputs": []
    },
    {
      "cell_type": "code",
      "metadata": {
        "id": "VJqMMkFjdTjG"
      },
      "source": [
        "# imports\n",
        "import plotly.express as px\n",
        "from jupyter_dash import JupyterDash\n",
        "import dash_core_components as dcc\n",
        "import dash_html_components as html\n",
        "from dash.dependencies import Input, Output\n",
        "import dash\n",
        "import dash_cytoscape as cyto\n",
        "import urllib.request, json\n",
        "import statistics"
      ],
      "execution_count": 7,
      "outputs": []
    },
    {
      "cell_type": "code",
      "metadata": {
        "id": "WKSAp4RDanTO"
      },
      "source": [
        "# Load Data\n",
        "df = px.data.tips()\n",
        "with urllib.request.urlopen(\"https://raw.githubusercontent.com/michalcohen/DataAnalysisABC/main/pass1.json\") as url:\n",
        "    data = json.loads(url.read().decode())"
      ],
      "execution_count": null,
      "outputs": []
    },
    {
      "cell_type": "code",
      "metadata": {
        "id": "Y6ySZ1XdsdUF"
      },
      "source": [
        "graph = {node[\"data\"][\"id\"]: {\"neighbors\": list(), \"inv\": node[\"classes\"] == \"inv\"} for node in data[\"nodes\"]}\n",
        "for edge in data[\"edges\"]:\n",
        "  graph[edge[\"data\"][\"source\"]][\"neighbors\"].append(edge[\"data\"][\"target\"])\n",
        "degrees = []\n",
        "for node_id, node_content in graph.items():\n",
        "  node_content['degree'] = len(node_content[\"neighbors\"])\n",
        "  degrees.append(node_content['degree'])\n",
        "std_deg, mean_deg, median_deg, max_deg = statistics.stdev(degrees), statistics.mean(degrees), statistics.median(degrees), max(degrees)\n",
        "high_deg_nodes = [node_id for node_id, node_content in graph.items() if node_content['degree'] > mean_deg + std_deg]\n",
        "high_deg_nodes"
      ],
      "execution_count": null,
      "outputs": []
    },
    {
      "cell_type": "code",
      "metadata": {
        "colab": {
          "base_uri": "https://localhost:8080/"
        },
        "id": "hk_PjTxFtly9",
        "outputId": "182db8a5-053b-4a3c-c21a-b30f209b292b"
      },
      "source": [
        "invariants = [node_id for node_id, node_content in graph.items() if node_content[\"inv\"]]\n",
        "len(invariants) / len(graph)"
      ],
      "execution_count": 14,
      "outputs": [
        {
          "output_type": "execute_result",
          "data": {
            "text/plain": [
              "0.22560537041476864"
            ]
          },
          "metadata": {
            "tags": []
          },
          "execution_count": 14
        }
      ]
    },
    {
      "cell_type": "code",
      "metadata": {
        "id": "DHuHtVwYanTQ",
        "colab": {
          "base_uri": "https://localhost:8080/",
          "height": 671
        },
        "outputId": "6341aae8-c8cd-46f0-9b1b-cc83f00dddd4"
      },
      "source": [
        "# Build App\n",
        "app = JupyterDash(__name__)\n",
        "elements = data[\"nodes\"] + data[\"edges\"]\n",
        "app.layout = html.Div([\n",
        "                       html.P(\"Dash Cytoscape:\"),\n",
        "                       cyto.Cytoscape(id='cytoscape',\n",
        "                                      elements=elements,\n",
        "                                      layout={'name': 'breadthfirst'},\n",
        "                                      style={'width': '800px', 'height': '1000px'},\n",
        "                                      stylesheet = [\n",
        "        # Group selectors\n",
        "        {\n",
        "            'selector': 'node',\n",
        "            'style': {\n",
        "                'content': 'data(label)'\n",
        "            }\n",
        "        },\n",
        "\n",
        "        # Class selectors\n",
        "        {\n",
        "            'selector': '.inv',\n",
        "            'style': {\n",
        "                'background-color': 'red',\n",
        "                'line-color': 'red'\n",
        "            }\n",
        "        },\n",
        "        {\n",
        "            'selector': '.non_inv',\n",
        "            'style': {\n",
        "                'background-color': 'blue',\n",
        "                'line-color': 'blue'\n",
        "            }\n",
        "        }\n",
        "    ]\n",
        "                                      )\n",
        "                       ])\n",
        "app.run_server(mode='inline')"
      ],
      "execution_count": 9,
      "outputs": [
        {
          "output_type": "display_data",
          "data": {
            "application/javascript": [
              "(async (port, path, width, height, cache, element) => {\n",
              "    if (!google.colab.kernel.accessAllowed && !cache) {\n",
              "      return;\n",
              "    }\n",
              "    element.appendChild(document.createTextNode(''));\n",
              "    const url = await google.colab.kernel.proxyPort(port, {cache});\n",
              "    const iframe = document.createElement('iframe');\n",
              "    iframe.src = url + path;\n",
              "    iframe.height = height;\n",
              "    iframe.width = width;\n",
              "    iframe.style.border = 0;\n",
              "    element.appendChild(iframe);\n",
              "  })(8050, \"/\", \"100%\", 650, false, window.element)"
            ],
            "text/plain": [
              "<IPython.core.display.Javascript object>"
            ]
          },
          "metadata": {
            "tags": []
          }
        }
      ]
    },
    {
      "cell_type": "code",
      "metadata": {
        "id": "tGfvbDMJg1hP"
      },
      "source": [
        ""
      ],
      "execution_count": null,
      "outputs": []
    }
  ]
}