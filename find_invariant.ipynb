{
  "nbformat": 4,
  "nbformat_minor": 0,
  "metadata": {
    "kernelspec": {
      "display_name": "Python 3",
      "language": "python",
      "name": "python3"
    },
    "language_info": {
      "codemirror_mode": {
        "name": "ipython",
        "version": 3
      },
      "file_extension": ".py",
      "mimetype": "text/x-python",
      "name": "python",
      "nbconvert_exporter": "python",
      "pygments_lexer": "ipython3",
      "version": "3.8.5"
    },
    "colab": {
      "name": "find_invariant.ipynb",
      "provenance": [],
      "include_colab_link": true
    }
  },
  "cells": [
    {
      "cell_type": "markdown",
      "metadata": {
        "id": "view-in-github",
        "colab_type": "text"
      },
      "source": [
        "<a href=\"https://colab.research.google.com/github/michalcohen/DataAnalysisABC/blob/main/find_invariant.ipynb\" target=\"_parent\"><img src=\"https://colab.research.google.com/assets/colab-badge.svg\" alt=\"Open In Colab\"/></a>"
      ]
    },
    {
      "cell_type": "code",
      "metadata": {
        "id": "cnInx6faanTM"
      },
      "source": [
        "import numpy as np\n",
        "from matplotlib import pyplot as plt\n",
        "import os\n",
        "import pandas as pd\n",
        "import tqdm\n",
        "from pandas import DataFrame as df\n",
        "from os.path import join\n",
        "import matplotlib\n",
        "import matplotlib.pyplot as plt\n",
        "import seaborn as sns\n",
        "from typing import Dict, List, Tuple\n",
        "import ipycytoscape\n",
        "import json\n",
        "\n",
        "%matplotlib inline\n",
        "%load_ext autoreload\n",
        "%autoreload 2"
      ],
      "execution_count": null,
      "outputs": []
    },
    {
      "cell_type": "code",
      "metadata": {
        "id": "WKSAp4RDanTO"
      },
      "source": [
        "with open(\"pass1.json\") as fi:\n",
        "    json_file = json.load(fi)"
      ],
      "execution_count": null,
      "outputs": []
    },
    {
      "cell_type": "code",
      "metadata": {
        "id": "VLU3MHLDanTO"
      },
      "source": [
        "cytoscapeobj = ipycytoscape.CytoscapeWidget()\n",
        "cytoscapeobj.graph.add_graph_from_json(json_file, directed=True)"
      ],
      "execution_count": null,
      "outputs": []
    },
    {
      "cell_type": "code",
      "metadata": {
        "id": "zUgAAqhGanTP"
      },
      "source": [
        "cytoscapeobj.set_layout(name='dagre', nodeSpacing=10, edgeLengthVal=10)\n",
        "cytoscapeobj.set_style([\n",
        "    {'selector': 'node','style': {\n",
        "        'font-family': 'arial',\n",
        "        'font-size': '10px',\n",
        "        'label': 'data(label)',\n",
        "        'background-color': 'green'}},\n",
        "    \n",
        "    {'selector': 'node[classes=\"inv\"]','style': {\n",
        "        'background-color': 'yellow'}},\n",
        "    \n",
        "     {'selector': 'node[classes=\"non_inv\"]','style': {\n",
        "        'background-color': 'blue'}}\n",
        "])"
      ],
      "execution_count": null,
      "outputs": []
    },
    {
      "cell_type": "code",
      "metadata": {
        "id": "qttAD5kyanTP",
        "outputId": "65e28414-862f-4bed-c8bf-4e3261038204",
        "colab": {
          "referenced_widgets": [
            "bfc781ed2612404a9edecf081909b987"
          ]
        }
      },
      "source": [
        "cytoscapeobj"
      ],
      "execution_count": null,
      "outputs": [
        {
          "output_type": "display_data",
          "data": {
            "application/vnd.jupyter.widget-view+json": {
              "model_id": "bfc781ed2612404a9edecf081909b987",
              "version_major": 2,
              "version_minor": 0
            },
            "text/plain": [
              "CytoscapeWidget(cytoscape_layout={'name': 'dagre', 'nodeSpacing': 10, 'edgeLengthVal': 10}, cytoscape_style=[{…"
            ]
          },
          "metadata": {
            "tags": []
          }
        }
      ]
    },
    {
      "cell_type": "code",
      "metadata": {
        "id": "DHuHtVwYanTQ"
      },
      "source": [
        ""
      ],
      "execution_count": null,
      "outputs": []
    }
  ]
}