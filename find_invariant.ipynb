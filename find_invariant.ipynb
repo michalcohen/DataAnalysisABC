{
 "cells": [
  {
   "cell_type": "markdown",
   "metadata": {
    "colab_type": "text",
    "id": "view-in-github"
   },
   "source": [
    "<a href=\"https://colab.research.google.com/github/michalcohen/DataAnalysisABC/blob/main/find_invariant.ipynb\" target=\"_parent\"><img src=\"https://colab.research.google.com/assets/colab-badge.svg\" alt=\"Open In Colab\"/></a>"
   ]
  },
  {
   "cell_type": "code",
   "execution_count": 2,
   "metadata": {
    "id": "cnInx6faanTM"
   },
   "outputs": [
    {
     "name": "stdout",
     "output_type": "stream",
     "text": [
      "Collecting jupyter-dash\n",
      "  Using cached jupyter_dash-0.4.0-py3-none-any.whl (20 kB)\n",
      "Processing /home/assaf127/.cache/pip/wheels/e3/1e/fa/0c810b67f082a7b9f33a128f6374b03cf5245edc45e37adbf8/dash-1.20.0-py3-none-any.whl\n",
      "Requirement already satisfied: ipython in /home/assaf127/miniconda3/envs/abc/lib/python3.8/site-packages (from jupyter-dash) (7.18.1)\n",
      "Requirement already satisfied: flask in /home/assaf127/miniconda3/envs/abc/lib/python3.8/site-packages (from jupyter-dash) (1.1.2)\n",
      "Requirement already satisfied: requests in /home/assaf127/miniconda3/envs/abc/lib/python3.8/site-packages (from jupyter-dash) (2.25.1)\n",
      "Requirement already satisfied: retrying in /home/assaf127/miniconda3/envs/abc/lib/python3.8/site-packages (from jupyter-dash) (1.3.3)\n",
      "Requirement already satisfied: ipykernel in /home/assaf127/miniconda3/envs/abc/lib/python3.8/site-packages (from jupyter-dash) (5.3.4)\n",
      "Requirement already satisfied: ansi2html in /home/assaf127/miniconda3/envs/abc/lib/python3.8/site-packages (from jupyter-dash) (1.6.0)\n",
      "Processing /home/assaf127/.cache/pip/wheels/ac/7e/fd/807844722d79d8babcd27b16e5f7ecc7b476c45ca607c11729/dash_renderer-1.9.1-py3-none-any.whl\n",
      "Processing /home/assaf127/.cache/pip/wheels/0c/9c/bd/06904831bdaa998ad1f53584553c5e06324814328666699128/dash_table-4.11.3-py3-none-any.whl\n",
      "Processing /home/assaf127/.cache/pip/wheels/8e/70/28/3d6ccd6e315f65f245da085482a2e1c7d14b90b30f239e2cf4/future-0.18.2-py3-none-any.whl\n",
      "Requirement already satisfied: flask-compress in /home/assaf127/miniconda3/envs/abc/lib/python3.8/site-packages (from dash->jupyter-dash) (1.9.0)\n",
      "Requirement already satisfied: plotly in /home/assaf127/miniconda3/envs/abc/lib/python3.8/site-packages (from dash->jupyter-dash) (4.14.3)\n",
      "Processing /home/assaf127/.cache/pip/wheels/2a/a3/33/bf6842d5d279588f8989ee8c2f9d9d8feb7af82216493a1eea/dash_html_components-1.1.3-py3-none-any.whl\n",
      "Processing /home/assaf127/.cache/pip/wheels/68/92/0c/4ac6d91639a754ebf3adfab7172c61fe408e7c71d00b8cbf66/dash_core_components-1.16.0-py3-none-any.whl\n",
      "Requirement already satisfied: jedi>=0.10 in /home/assaf127/miniconda3/envs/abc/lib/python3.8/site-packages (from ipython->jupyter-dash) (0.18.0)\n",
      "Requirement already satisfied: pexpect>4.3; sys_platform != \"win32\" in /home/assaf127/miniconda3/envs/abc/lib/python3.8/site-packages (from ipython->jupyter-dash) (4.8.0)\n",
      "Requirement already satisfied: pickleshare in /home/assaf127/miniconda3/envs/abc/lib/python3.8/site-packages (from ipython->jupyter-dash) (0.7.5)\n",
      "Requirement already satisfied: prompt-toolkit!=3.0.0,!=3.0.1,<3.1.0,>=2.0.0 in /home/assaf127/miniconda3/envs/abc/lib/python3.8/site-packages (from ipython->jupyter-dash) (3.0.8)\n",
      "Requirement already satisfied: backcall in /home/assaf127/miniconda3/envs/abc/lib/python3.8/site-packages (from ipython->jupyter-dash) (0.2.0)\n",
      "Requirement already satisfied: pygments in /home/assaf127/miniconda3/envs/abc/lib/python3.8/site-packages (from ipython->jupyter-dash) (2.8.0)\n",
      "Requirement already satisfied: setuptools>=18.5 in /home/assaf127/miniconda3/envs/abc/lib/python3.8/site-packages (from ipython->jupyter-dash) (52.0.0.post20210125)\n",
      "Requirement already satisfied: traitlets>=4.2 in /home/assaf127/miniconda3/envs/abc/lib/python3.8/site-packages (from ipython->jupyter-dash) (5.0.5)\n",
      "Requirement already satisfied: decorator in /home/assaf127/miniconda3/envs/abc/lib/python3.8/site-packages (from ipython->jupyter-dash) (4.4.2)\n",
      "Requirement already satisfied: click>=5.1 in /home/assaf127/miniconda3/envs/abc/lib/python3.8/site-packages (from flask->jupyter-dash) (7.1.2)\n",
      "Requirement already satisfied: Jinja2>=2.10.1 in /home/assaf127/miniconda3/envs/abc/lib/python3.8/site-packages (from flask->jupyter-dash) (2.11.3)\n",
      "Requirement already satisfied: itsdangerous>=0.24 in /home/assaf127/miniconda3/envs/abc/lib/python3.8/site-packages (from flask->jupyter-dash) (1.1.0)\n",
      "Requirement already satisfied: Werkzeug>=0.15 in /home/assaf127/miniconda3/envs/abc/lib/python3.8/site-packages (from flask->jupyter-dash) (1.0.1)\n",
      "Requirement already satisfied: urllib3<1.27,>=1.21.1 in /home/assaf127/miniconda3/envs/abc/lib/python3.8/site-packages (from requests->jupyter-dash) (1.26.3)\n",
      "Requirement already satisfied: certifi>=2017.4.17 in /home/assaf127/miniconda3/envs/abc/lib/python3.8/site-packages (from requests->jupyter-dash) (2020.12.5)\n",
      "Requirement already satisfied: chardet<5,>=3.0.2 in /home/assaf127/miniconda3/envs/abc/lib/python3.8/site-packages (from requests->jupyter-dash) (4.0.0)\n",
      "Requirement already satisfied: idna<3,>=2.5 in /home/assaf127/miniconda3/envs/abc/lib/python3.8/site-packages (from requests->jupyter-dash) (2.10)\n",
      "Requirement already satisfied: six>=1.7.0 in /home/assaf127/miniconda3/envs/abc/lib/python3.8/site-packages (from retrying->jupyter-dash) (1.15.0)\n",
      "Requirement already satisfied: tornado>=4.2 in /home/assaf127/miniconda3/envs/abc/lib/python3.8/site-packages (from ipykernel->jupyter-dash) (6.1)\n",
      "Requirement already satisfied: jupyter-client in /home/assaf127/miniconda3/envs/abc/lib/python3.8/site-packages (from ipykernel->jupyter-dash) (6.1.7)\n",
      "Requirement already satisfied: brotli in /home/assaf127/miniconda3/envs/abc/lib/python3.8/site-packages (from flask-compress->dash->jupyter-dash) (1.0.9)\n",
      "Requirement already satisfied: parso<0.9.0,>=0.8.0 in /home/assaf127/miniconda3/envs/abc/lib/python3.8/site-packages (from jedi>=0.10->ipython->jupyter-dash) (0.8.1)\n",
      "Requirement already satisfied: ptyprocess>=0.5 in /home/assaf127/miniconda3/envs/abc/lib/python3.8/site-packages (from pexpect>4.3; sys_platform != \"win32\"->ipython->jupyter-dash) (0.7.0)\n",
      "Requirement already satisfied: wcwidth in /home/assaf127/miniconda3/envs/abc/lib/python3.8/site-packages (from prompt-toolkit!=3.0.0,!=3.0.1,<3.1.0,>=2.0.0->ipython->jupyter-dash) (0.2.5)\n",
      "Requirement already satisfied: ipython-genutils in /home/assaf127/miniconda3/envs/abc/lib/python3.8/site-packages (from traitlets>=4.2->ipython->jupyter-dash) (0.2.0)\n",
      "Requirement already satisfied: MarkupSafe>=0.23 in /home/assaf127/miniconda3/envs/abc/lib/python3.8/site-packages (from Jinja2>=2.10.1->flask->jupyter-dash) (1.1.1)\n",
      "Requirement already satisfied: jupyter-core>=4.6.0 in /home/assaf127/miniconda3/envs/abc/lib/python3.8/site-packages (from jupyter-client->ipykernel->jupyter-dash) (4.7.1)\n",
      "Requirement already satisfied: python-dateutil>=2.1 in /home/assaf127/miniconda3/envs/abc/lib/python3.8/site-packages (from jupyter-client->ipykernel->jupyter-dash) (2.8.1)\n",
      "Requirement already satisfied: pyzmq>=13 in /home/assaf127/miniconda3/envs/abc/lib/python3.8/site-packages (from jupyter-client->ipykernel->jupyter-dash) (20.0.0)\n",
      "Installing collected packages: dash-renderer, dash-table, future, dash-html-components, dash-core-components, dash, jupyter-dash\n",
      "Successfully installed dash-1.20.0 dash-core-components-1.16.0 dash-html-components-1.1.3 dash-renderer-1.9.1 dash-table-4.11.3 future-0.18.2 jupyter-dash-0.4.0\n",
      "Collecting dash-cytoscape\n",
      "  Using cached dash_cytoscape-0.2.0.tar.gz (3.6 MB)\n",
      "Requirement already satisfied: dash in /home/assaf127/miniconda3/envs/abc/lib/python3.8/site-packages (from dash-cytoscape) (1.20.0)\n",
      "Requirement already satisfied: Flask>=1.0.4 in /home/assaf127/miniconda3/envs/abc/lib/python3.8/site-packages (from dash->dash-cytoscape) (1.1.2)\n",
      "Requirement already satisfied: dash-renderer==1.9.1 in /home/assaf127/miniconda3/envs/abc/lib/python3.8/site-packages (from dash->dash-cytoscape) (1.9.1)\n",
      "Requirement already satisfied: dash-html-components==1.1.3 in /home/assaf127/miniconda3/envs/abc/lib/python3.8/site-packages (from dash->dash-cytoscape) (1.1.3)\n",
      "Requirement already satisfied: dash-table==4.11.3 in /home/assaf127/miniconda3/envs/abc/lib/python3.8/site-packages (from dash->dash-cytoscape) (4.11.3)\n",
      "Requirement already satisfied: dash-core-components==1.16.0 in /home/assaf127/miniconda3/envs/abc/lib/python3.8/site-packages (from dash->dash-cytoscape) (1.16.0)\n",
      "Requirement already satisfied: future in /home/assaf127/miniconda3/envs/abc/lib/python3.8/site-packages (from dash->dash-cytoscape) (0.18.2)\n",
      "Requirement already satisfied: plotly in /home/assaf127/miniconda3/envs/abc/lib/python3.8/site-packages (from dash->dash-cytoscape) (4.14.3)\n",
      "Requirement already satisfied: flask-compress in /home/assaf127/miniconda3/envs/abc/lib/python3.8/site-packages (from dash->dash-cytoscape) (1.9.0)\n",
      "Requirement already satisfied: Jinja2>=2.10.1 in /home/assaf127/miniconda3/envs/abc/lib/python3.8/site-packages (from Flask>=1.0.4->dash->dash-cytoscape) (2.11.3)\n",
      "Requirement already satisfied: Werkzeug>=0.15 in /home/assaf127/miniconda3/envs/abc/lib/python3.8/site-packages (from Flask>=1.0.4->dash->dash-cytoscape) (1.0.1)\n",
      "Requirement already satisfied: itsdangerous>=0.24 in /home/assaf127/miniconda3/envs/abc/lib/python3.8/site-packages (from Flask>=1.0.4->dash->dash-cytoscape) (1.1.0)\n",
      "Requirement already satisfied: click>=5.1 in /home/assaf127/miniconda3/envs/abc/lib/python3.8/site-packages (from Flask>=1.0.4->dash->dash-cytoscape) (7.1.2)\n",
      "Requirement already satisfied: retrying>=1.3.3 in /home/assaf127/miniconda3/envs/abc/lib/python3.8/site-packages (from plotly->dash->dash-cytoscape) (1.3.3)\n",
      "Requirement already satisfied: six in /home/assaf127/miniconda3/envs/abc/lib/python3.8/site-packages (from plotly->dash->dash-cytoscape) (1.15.0)\n",
      "Requirement already satisfied: brotli in /home/assaf127/miniconda3/envs/abc/lib/python3.8/site-packages (from flask-compress->dash->dash-cytoscape) (1.0.9)\n",
      "Requirement already satisfied: MarkupSafe>=0.23 in /home/assaf127/miniconda3/envs/abc/lib/python3.8/site-packages (from Jinja2>=2.10.1->Flask>=1.0.4->dash->dash-cytoscape) (1.1.1)\n",
      "Building wheels for collected packages: dash-cytoscape\n",
      "  Building wheel for dash-cytoscape (setup.py) ... \u001b[?25ldone\n",
      "\u001b[?25h  Created wheel for dash-cytoscape: filename=dash_cytoscape-0.2.0-py3-none-any.whl size=3608256 sha256=6108a451bb5f11a40c45bacef595b75e32510021a3db0e8b5d1ed734f8296a04\n",
      "  Stored in directory: /home/assaf127/.cache/pip/wheels/71/12/ac/c20f982ad35f35dd057950935cafa13d168b26e249304554e5\n",
      "Successfully built dash-cytoscape\n",
      "Installing collected packages: dash-cytoscape\n",
      "Successfully installed dash-cytoscape-0.2.0\n"
     ]
    }
   ],
   "source": [
    "# installs\n",
    "!pip install jupyter-dash\n",
    "!pip install dash-cytoscape"
   ]
  },
  {
   "cell_type": "code",
   "execution_count": 3,
   "metadata": {
    "id": "VJqMMkFjdTjG"
   },
   "outputs": [],
   "source": [
    "# imports\n",
    "import plotly.express as px\n",
    "from jupyter_dash import JupyterDash\n",
    "import dash_core_components as dcc\n",
    "import dash_html_components as html\n",
    "from dash.dependencies import Input, Output\n",
    "import dash\n",
    "import dash_cytoscape as cyto\n",
    "import urllib.request, json\n",
    "import statistics"
   ]
  },
  {
   "cell_type": "code",
   "execution_count": 4,
   "metadata": {
    "id": "WKSAp4RDanTO"
   },
   "outputs": [],
   "source": [
    "# Load Data\n",
    "df = px.data.tips()\n",
    "with urllib.request.urlopen(\"https://raw.githubusercontent.com/michalcohen/DataAnalysisABC/main/pass1.json\") as url:\n",
    "    data = json.loads(url.read().decode())"
   ]
  },
  {
   "cell_type": "code",
   "execution_count": 5,
   "metadata": {
    "colab": {
     "base_uri": "https://localhost:8080/"
    },
    "id": "Y6ySZ1XdsdUF",
    "outputId": "9f3e5cda-46e7-4a18-d8ce-2de1de4a5ebc"
   },
   "outputs": [
    {
     "data": {
      "text/plain": [
       "['2075', '2088', '1991', '2050', '2129', '2003', '1984', '2109', '2080']"
      ]
     },
     "execution_count": 5,
     "metadata": {},
     "output_type": "execute_result"
    }
   ],
   "source": [
    "graph = {node[\"data\"][\"id\"]: {\"neighbors\": list(), \"inv\": node[\"classes\"].startswith(\"inv\"), \"origin\": int(node[\"classes\"].split(\" \")[-1])} for node in data[\"nodes\"]}\n",
    "for edge in data[\"edges\"]:\n",
    "  graph[edge[\"data\"][\"source\"]][\"neighbors\"].append(edge[\"data\"][\"target\"])\n",
    "degrees = []\n",
    "for node_id, node_content in graph.items():\n",
    "  node_content['degree'] = len(node_content[\"neighbors\"])\n",
    "  degrees.append(node_content['degree'])\n",
    "std_deg, mean_deg, median_deg, max_deg = statistics.stdev(degrees), statistics.mean(degrees), statistics.median(degrees), max(degrees)\n",
    "high_deg_nodes = [node_id for node_id, node_content in graph.items() if node_content['degree'] > mean_deg + std_deg]\n",
    "high_deg_nodes[-10: -1]"
   ]
  },
  {
   "cell_type": "code",
   "execution_count": 6,
   "metadata": {
    "colab": {
     "base_uri": "https://localhost:8080/"
    },
    "id": "hk_PjTxFtly9",
    "outputId": "607e3975-d39b-47b0-ffec-db3ff0137af3"
   },
   "outputs": [
    {
     "data": {
      "text/plain": [
       "0.4405430711610487"
      ]
     },
     "execution_count": 6,
     "metadata": {},
     "output_type": "execute_result"
    }
   ],
   "source": [
    "invariants = [node_id for node_id, node_content in graph.items() if node_content[\"inv\"]]\n",
    "len(invariants) / len(graph)"
   ]
  },
  {
   "cell_type": "code",
   "execution_count": 7,
   "metadata": {
    "colab": {
     "base_uri": "https://localhost:8080/"
    },
    "id": "7LiEY7cuZyaw",
    "outputId": "ec17d90c-9156-4e39-c844-7ff544427d82"
   },
   "outputs": [
    {
     "data": {
      "text/plain": [
       "0.9948501872659176"
      ]
     },
     "execution_count": 7,
     "metadata": {},
     "output_type": "execute_result"
    }
   ],
   "source": [
    "group0 = [node_id for node_id, node_content in graph.items() if node_content[\"origin\"] == 0]\n",
    "len(group0) / len(graph)"
   ]
  },
  {
   "cell_type": "markdown",
   "metadata": {
    "id": "940MfWDLltq1"
   },
   "source": [
    "0 - reduceGeneralizeReason\n",
    "1 - reducePushClauseReason\n",
    "2 - predReason\n",
    "3- noReason"
   ]
  },
  {
   "cell_type": "code",
   "execution_count": 9,
   "metadata": {
    "colab": {
     "base_uri": "https://localhost:8080/",
     "height": 671
    },
    "id": "DHuHtVwYanTQ",
    "outputId": "e951d0ee-a0fe-494a-8964-42d9bee25e0d"
   },
   "outputs": [
    {
     "data": {
      "text/html": [
       "\n",
       "        <iframe\n",
       "            width=\"100%\"\n",
       "            height=\"650\"\n",
       "            src=\"http://127.0.0.1:8050/\"\n",
       "            frameborder=\"0\"\n",
       "            allowfullscreen\n",
       "        ></iframe>\n",
       "        "
      ],
      "text/plain": [
       "<IPython.lib.display.IFrame at 0x7ff752b26490>"
      ]
     },
     "metadata": {},
     "output_type": "display_data"
    }
   ],
   "source": [
    "# Build App\n",
    "app = JupyterDash(__name__)\n",
    "elements = data[\"nodes\"] + data[\"edges\"]\n",
    "\n",
    "styles = {\n",
    "    'pre': {\n",
    "        'border': 'thin lightgrey solid',\n",
    "        'overflowX': 'scroll'\n",
    "    }\n",
    "}\n",
    "\n",
    "\n",
    "app.layout = html.Div([\n",
    "                       html.P(\"Dash Cytoscape:\"),\n",
    "                       cyto.Cytoscape(id='cytoscape',\n",
    "                                      elements=elements,\n",
    "                                      layout={'name': 'breadthfirst'},\n",
    "                                      style={'width': '100%', 'height': '1000px'},\n",
    "                                      stylesheet = [\n",
    "                                                      # Group selectors\n",
    "                                                      {\n",
    "                                                          'selector': 'node',\n",
    "                                                          'style': {\n",
    "                                                              'label': 'data(count)'\n",
    "                                                          }\n",
    "                                                      },\n",
    "                                                      {\n",
    "                                                          'selector': 'edge',\n",
    "                                                          'style': {\n",
    "                                                              'target-arrow-color': '#ccc',\n",
    "                                                              'target-arrow-shape': 'triangle'\n",
    "                                                          }\n",
    "                                                      },\n",
    "                                                      # Class selectors\n",
    "                                                      {\n",
    "                                                          'selector': '.inv',\n",
    "                                                          'style': {\n",
    "                                                              'shape': 'circle'\n",
    "                                                          }\n",
    "                                                      },\n",
    "                                                      {\n",
    "                                                          'selector': '.non_inv',\n",
    "                                                          'style': {\n",
    "                                                              'shape': 'rectangle'\n",
    "                                                          }\n",
    "                                                      },\n",
    "                                                      {\n",
    "                                                          'selector': '.0',\n",
    "                                                          'style': {\n",
    "                                                              'background-color': 'blue'\n",
    "                                                          }\n",
    "                                                      },\n",
    "                                                      {\n",
    "                                                          'selector': '.1',\n",
    "                                                          'style': {\n",
    "                                                              'background-color': 'yellow'\n",
    "                                                          }\n",
    "                                                      },\n",
    "                                                      {\n",
    "                                                          'selector': '.2',\n",
    "                                                          'style': {\n",
    "                                                              'background-color': 'green'\n",
    "                                                          }\n",
    "                                                      },\n",
    "                                                      {\n",
    "                                                          'selector': '.3',\n",
    "                                                          'style': {\n",
    "                                                              'background-color': 'purple'\n",
    "                                                          }\n",
    "                                                      }\n",
    "                                                  ]\n",
    "                                      ),\n",
    "                       html.Pre(id='cytoscape-tapNodeData-json', style=styles['pre'])\n",
    "                       ])\n",
    "\n",
    "@app.callback(Output('cytoscape-tapNodeData-json', 'children'),\n",
    "              Input('cytoscape-event-callbacks-1', 'tapNodeData'))\n",
    "def displayTapNodeData(data):\n",
    "    return json.dumps(data, indent=2)\n",
    "\n",
    "\n",
    "app.run_server(mode='inline')"
   ]
  },
  {
   "cell_type": "code",
   "execution_count": null,
   "metadata": {
    "id": "tGfvbDMJg1hP"
   },
   "outputs": [],
   "source": []
  }
 ],
 "metadata": {
  "colab": {
   "include_colab_link": true,
   "name": "find_invariant.ipynb",
   "provenance": []
  },
  "kernelspec": {
   "display_name": "Python 3",
   "language": "python",
   "name": "python3"
  },
  "language_info": {
   "codemirror_mode": {
    "name": "ipython",
    "version": 3
   },
   "file_extension": ".py",
   "mimetype": "text/x-python",
   "name": "python",
   "nbconvert_exporter": "python",
   "pygments_lexer": "ipython3",
   "version": "3.8.5"
  }
 },
 "nbformat": 4,
 "nbformat_minor": 4
}
