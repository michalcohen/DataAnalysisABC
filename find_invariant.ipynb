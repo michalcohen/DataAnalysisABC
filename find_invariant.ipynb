{
 "cells": [
  {
   "cell_type": "code",
   "execution_count": 1,
   "metadata": {},
   "outputs": [],
   "source": [
    "import numpy as np\n",
    "from matplotlib import pyplot as plt\n",
    "import os\n",
    "import pandas as pd\n",
    "import tqdm\n",
    "from pandas import DataFrame as df\n",
    "from os.path import join\n",
    "import matplotlib\n",
    "import matplotlib.pyplot as plt\n",
    "import seaborn as sns\n",
    "from typing import Dict, List, Tuple\n",
    "import ipycytoscape\n",
    "import json\n",
    "\n",
    "%matplotlib inline\n",
    "%load_ext autoreload\n",
    "%autoreload 2"
   ]
  },
  {
   "cell_type": "code",
   "execution_count": null,
   "metadata": {},
   "outputs": [],
   "source": []
  },
  {
   "cell_type": "code",
   "execution_count": 6,
   "metadata": {},
   "outputs": [],
   "source": [
    "with open(\"pass1.json\") as fi:\n",
    "    json_file = json.load(fi)"
   ]
  },
  {
   "cell_type": "code",
   "execution_count": 7,
   "metadata": {},
   "outputs": [],
   "source": [
    "cytoscapeobj = ipycytoscape.CytoscapeWidget()\n",
    "cytoscapeobj.graph.add_graph_from_json(json_file)"
   ]
  },
  {
   "cell_type": "code",
   "execution_count": 8,
   "metadata": {},
   "outputs": [],
   "source": [
    "cytoscapeobj.set_layout(name='dagre', nodeSpacing=10, edgeLengthVal=10)\n",
    "cytoscapeobj.set_style([{\n",
    "                        'selector': 'node',\n",
    "                        'css': {\n",
    "                            'background-color': '#11479e'\n",
    "                            }\n",
    "                        },\n",
    "                        {\n",
    "                        'selector': 'node:parent',\n",
    "                        'css': {\n",
    "                            'background-opacity': 0.333\n",
    "                            }\n",
    "                        },\n",
    "                        {\n",
    "                            'selector': 'edge',\n",
    "                            'style': {\n",
    "                                'width': 4,\n",
    "                                'line-color': '#9dbaea',\n",
    "                                'target-arrow-shape': 'triangle',\n",
    "                                'target-arrow-color': '#9dbaea',\n",
    "                                'curve-style': 'bezier'\n",
    "                            }\n",
    "                        }])"
   ]
  },
  {
   "cell_type": "code",
   "execution_count": 9,
   "metadata": {},
   "outputs": [
    {
     "data": {
      "application/vnd.jupyter.widget-view+json": {
       "model_id": "bb3e8351bd0c4a25be0ba3a2521cd1a7",
       "version_major": 2,
       "version_minor": 0
      },
      "text/plain": [
       "CytoscapeWidget(cytoscape_layout={'name': 'dagre', 'nodeSpacing': 10, 'edgeLengthVal': 10}, cytoscape_style=[{…"
      ]
     },
     "metadata": {},
     "output_type": "display_data"
    }
   ],
   "source": [
    "cytoscapeobj"
   ]
  },
  {
   "cell_type": "code",
   "execution_count": null,
   "metadata": {},
   "outputs": [],
   "source": []
  }
 ],
 "metadata": {
  "kernelspec": {
   "display_name": "Python 3",
   "language": "python",
   "name": "python3"
  },
  "language_info": {
   "codemirror_mode": {
    "name": "ipython",
    "version": 3
   },
   "file_extension": ".py",
   "mimetype": "text/x-python",
   "name": "python",
   "nbconvert_exporter": "python",
   "pygments_lexer": "ipython3",
   "version": "3.8.5"
  }
 },
 "nbformat": 4,
 "nbformat_minor": 4
}
