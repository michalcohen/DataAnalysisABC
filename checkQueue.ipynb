{
 "cells": [
  {
   "cell_type": "code",
   "execution_count": 1,
   "id": "romance-tenant",
   "metadata": {},
   "outputs": [],
   "source": [
    "import numpy as np\n",
    "from matplotlib import pyplot as plt\n",
    "import os\n",
    "import pandas as pd\n",
    "import tqdm\n",
    "from multiprocess import Pool\n",
    "from pandas import DataFrame as df\n",
    "from os.path import join\n",
    "import matplotlib\n",
    "import matplotlib.pyplot as plt\n",
    "import seaborn as sns\n",
    "from subprocess import run\n",
    "\n",
    "%matplotlib inline\n",
    "%load_ext autoreload\n",
    "%autoreload 2"
   ]
  },
  {
   "cell_type": "code",
   "execution_count": 2,
   "id": "medieval-shannon",
   "metadata": {},
   "outputs": [
    {
     "name": "stderr",
     "output_type": "stream",
     "text": [
      "100%|██████████| 687/687 [28:33:34<00:00, 149.66s/it]     \n"
     ]
    }
   ],
   "source": [
    "dirname = join(\"/home/assaf127/extavy\", \"beem\")\n",
    "frames_list = [filename for filename in os.listdir(dirname) if filename.endswith(\".aig\")]\n",
    "max_pool = 12\n",
    "\n",
    "        \n",
    "def process_aig(f):\n",
    "    file_name = f.split(\".\")[0]\n",
    "    out_name = join(dirname, file_name + \".txt\")\n",
    "    q_out_name = join(dirname, file_name + \"_q.txt\")\n",
    "    input_filename = join(dirname, file_name + \".aig\")\n",
    "    #with open(join(\"../extavy/beem\", f.split(\".\")[0] + \".txt\"), 'w') as out_f:\n",
    "    os.system(f\"/home/assaf127/extavy/build/avy/src/avypdr {input_filename} -v 2 > {out_name} 2>&1\")\n",
    "    #print(f\"~/extavy/build/avy/src/avypdr {input_filename} -v 1 > {out_name} 2>&1\")\n",
    "    #with open(join(\"../extavy/beem\", f.split(\".\")[0] + \"_q.txt\"), 'w') as out_f:\n",
    "    os.system(f\"/home/assaf127/extavy/build/avy/src/avypdr {input_filename} -v 2 -q > {q_out_name} 2>&1\")\n",
    "    return f\n",
    "\n",
    "with Pool(max_pool) as p:\n",
    "    pool_outputs = list(\n",
    "        tqdm.tqdm(\n",
    "            p.imap(process_aig,\n",
    "                   frames_list),\n",
    "            total=len(frames_list)\n",
    "        )\n",
    "    )"
   ]
  },
  {
   "cell_type": "code",
   "execution_count": null,
   "id": "recorded-postage",
   "metadata": {},
   "outputs": [],
   "source": [
    " "
   ]
  }
 ],
 "metadata": {
  "kernelspec": {
   "display_name": "Python 3",
   "language": "python",
   "name": "python3"
  },
  "language_info": {
   "codemirror_mode": {
    "name": "ipython",
    "version": 3
   },
   "file_extension": ".py",
   "mimetype": "text/x-python",
   "name": "python",
   "nbconvert_exporter": "python",
   "pygments_lexer": "ipython3",
   "version": "3.8.5"
  }
 },
 "nbformat": 4,
 "nbformat_minor": 5
}
