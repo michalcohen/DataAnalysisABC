{
 "cells": [
  {
   "cell_type": "code",
   "execution_count": 5,
   "metadata": {},
   "outputs": [
    {
     "name": "stdout",
     "output_type": "stream",
     "text": [
      "The autoreload extension is already loaded. To reload it, use:\n",
      "  %reload_ext autoreload\n"
     ]
    }
   ],
   "source": [
    "import numpy as np\n",
    "from matplotlib import pyplot as plt\n",
    "import os\n",
    "import pandas as pd\n",
    "import tqdm\n",
    "from multiprocess import Pool\n",
    "from pandas import DataFrame as df\n",
    "from os.path import join\n",
    "import matplotlib\n",
    "import matplotlib.pyplot as plt\n",
    "import seaborn as sns\n",
    "\n",
    "%matplotlib inline\n",
    "%load_ext autoreload\n",
    "%autoreload 2"
   ]
  },
  {
   "cell_type": "code",
   "execution_count": 2,
   "metadata": {},
   "outputs": [
    {
     "name": "stderr",
     "output_type": "stream",
     "text": [
      "100%|██████████| 688/688 [1:03:49<00:00,  5.57s/it]  \n"
     ]
    }
   ],
   "source": [
    "dirname = \"../abc/beem\"\n",
    "frames_list = [filename for filename in os.listdir(dirname) if filename.endswith(\".aig\")]\n",
    "max_pool = 12\n",
    "\n",
    "        \n",
    "def process_aig(f):\n",
    "    os.system(\"cd ../abc && ./abc -c \\\"r \" + os.path.join(\"beem\", f) + \"; dprove\\\"\")\n",
    "    return f\n",
    "\n",
    "with Pool(max_pool) as p:\n",
    "    pool_outputs = list(\n",
    "        tqdm.tqdm(\n",
    "            p.imap(process_aig,\n",
    "                   frames_list),\n",
    "            total=len(frames_list)\n",
    "        )\n",
    "    )"
   ]
  },
  {
   "cell_type": "code",
   "execution_count": 3,
   "metadata": {},
   "outputs": [
    {
     "name": "stderr",
     "output_type": "stream",
     "text": [
      "100%|██████████| 662/662 [00:00<00:00, 749.67it/s]\n"
     ]
    },
    {
     "data": {
      "text/html": [
       "<div>\n",
       "<style scoped>\n",
       "    .dataframe tbody tr th:only-of-type {\n",
       "        vertical-align: middle;\n",
       "    }\n",
       "\n",
       "    .dataframe tbody tr th {\n",
       "        vertical-align: top;\n",
       "    }\n",
       "\n",
       "    .dataframe thead th {\n",
       "        text-align: right;\n",
       "    }\n",
       "</style>\n",
       "<table border=\"1\" class=\"dataframe\">\n",
       "  <thead>\n",
       "    <tr style=\"text-align: right;\">\n",
       "      <th></th>\n",
       "      <th>level</th>\n",
       "      <th>cube</th>\n",
       "      <th>depth</th>\n",
       "      <th>avg_depth</th>\n",
       "      <th>max_depth</th>\n",
       "    </tr>\n",
       "  </thead>\n",
       "  <tbody>\n",
       "    <tr>\n",
       "      <th>0</th>\n",
       "      <td>1</td>\n",
       "      <td>0x7fffd71284d0</td>\n",
       "      <td>1</td>\n",
       "      <td>1.0</td>\n",
       "      <td>1</td>\n",
       "    </tr>\n",
       "    <tr>\n",
       "      <th>1</th>\n",
       "      <td>1</td>\n",
       "      <td>0x7fffd72500c0</td>\n",
       "      <td>1</td>\n",
       "      <td>1.0</td>\n",
       "      <td>1</td>\n",
       "    </tr>\n",
       "    <tr>\n",
       "      <th>2</th>\n",
       "      <td>2</td>\n",
       "      <td>0x7fffd7254ec0</td>\n",
       "      <td>2</td>\n",
       "      <td>2.0</td>\n",
       "      <td>2</td>\n",
       "    </tr>\n",
       "    <tr>\n",
       "      <th>3</th>\n",
       "      <td>2</td>\n",
       "      <td>0x7fffd7820af0</td>\n",
       "      <td>2</td>\n",
       "      <td>2.0</td>\n",
       "      <td>2</td>\n",
       "    </tr>\n",
       "    <tr>\n",
       "      <th>4</th>\n",
       "      <td>3</td>\n",
       "      <td>0x7fffd7820af0</td>\n",
       "      <td>4</td>\n",
       "      <td>4.0</td>\n",
       "      <td>4</td>\n",
       "    </tr>\n",
       "    <tr>\n",
       "      <th>...</th>\n",
       "      <td>...</td>\n",
       "      <td>...</td>\n",
       "      <td>...</td>\n",
       "      <td>...</td>\n",
       "      <td>...</td>\n",
       "    </tr>\n",
       "    <tr>\n",
       "      <th>30</th>\n",
       "      <td>17</td>\n",
       "      <td>0x7ffff59da710</td>\n",
       "      <td>151</td>\n",
       "      <td>151.0</td>\n",
       "      <td>151</td>\n",
       "    </tr>\n",
       "    <tr>\n",
       "      <th>31</th>\n",
       "      <td>18</td>\n",
       "      <td>0x7ffff59da710</td>\n",
       "      <td>151</td>\n",
       "      <td>151.0</td>\n",
       "      <td>151</td>\n",
       "    </tr>\n",
       "    <tr>\n",
       "      <th>32</th>\n",
       "      <td>20</td>\n",
       "      <td>0x7ffff94e1450</td>\n",
       "      <td>219</td>\n",
       "      <td>219.0</td>\n",
       "      <td>219</td>\n",
       "    </tr>\n",
       "    <tr>\n",
       "      <th>33</th>\n",
       "      <td>22</td>\n",
       "      <td>0x7ffff952aa40</td>\n",
       "      <td>219</td>\n",
       "      <td>219.0</td>\n",
       "      <td>219</td>\n",
       "    </tr>\n",
       "    <tr>\n",
       "      <th>34</th>\n",
       "      <td>23</td>\n",
       "      <td>0x7ffffad64460</td>\n",
       "      <td>219</td>\n",
       "      <td>219.0</td>\n",
       "      <td>219</td>\n",
       "    </tr>\n",
       "  </tbody>\n",
       "</table>\n",
       "<p>17104 rows × 5 columns</p>\n",
       "</div>"
      ],
      "text/plain": [
       "    level            cube  depth  avg_depth  max_depth\n",
       "0       1  0x7fffd71284d0      1        1.0          1\n",
       "1       1  0x7fffd72500c0      1        1.0          1\n",
       "2       2  0x7fffd7254ec0      2        2.0          2\n",
       "3       2  0x7fffd7820af0      2        2.0          2\n",
       "4       3  0x7fffd7820af0      4        4.0          4\n",
       "..    ...             ...    ...        ...        ...\n",
       "30     17  0x7ffff59da710    151      151.0        151\n",
       "31     18  0x7ffff59da710    151      151.0        151\n",
       "32     20  0x7ffff94e1450    219      219.0        219\n",
       "33     22  0x7ffff952aa40    219      219.0        219\n",
       "34     23  0x7ffffad64460    219      219.0        219\n",
       "\n",
       "[17104 rows x 5 columns]"
      ]
     },
     "execution_count": 3,
     "metadata": {},
     "output_type": "execute_result"
    }
   ],
   "source": [
    "dirname = \"../abc/beem\"\n",
    "file_list = [filename for filename in os.listdir(dirname) if filename.endswith(\".csv\")]\n",
    "max_pool = 12\n",
    "\n",
    "def process_file(file):\n",
    "    x = pd.read_csv(join(dirname, file))\n",
    "    x['avg_depth'] = x.groupby('level')['depth'].transform('mean')\n",
    "    x['max_depth'] = x.groupby('level')['depth'].transform('max')\n",
    "    x.drop_duplicates(subset=['level'], keep='first')\n",
    "    return x\n",
    "    \n",
    "with Pool(max_pool) as p:\n",
    "    pool_outputs = list(\n",
    "        tqdm.tqdm(\n",
    "            p.imap(process_file,\n",
    "                   file_list),\n",
    "            total=len(file_list)\n",
    "        )\n",
    "    )\n",
    "tot = pd.concat(pool_outputs)\n",
    "tot"
   ]
  },
  {
   "cell_type": "code",
   "execution_count": 9,
   "metadata": {},
   "outputs": [
    {
     "data": {
      "text/plain": [
       "<AxesSubplot:xlabel='level', ylabel='avg_depth'>"
      ]
     },
     "execution_count": 9,
     "metadata": {},
     "output_type": "execute_result"
    },
    {
     "data": {
      "image/png": "[encoded data removed]",
      "text/plain": [
       "<Figure size 432x288 with 1 Axes>"
      ]
     },
     "metadata": {
      "needs_background": "light"
     },
     "output_type": "display_data"
    }
   ],
   "source": [
    "sns.lineplot(data=tot, x=\"level\", y=\"avg_depth\")"
   ]
  },
  {
   "cell_type": "code",
   "execution_count": null,
   "metadata": {},
   "outputs": [],
   "source": []
  }
 ],
 "metadata": {
  "kernelspec": {
   "display_name": "Python 3",
   "language": "python",
   "name": "python3"
  },
  "language_info": {
   "codemirror_mode": {
    "name": "ipython",
    "version": 3
   },
   "file_extension": ".py",
   "mimetype": "text/x-python",
   "name": "python",
   "nbconvert_exporter": "python",
   "pygments_lexer": "ipython3",
   "version": "3.8.5"
  }
 },
 "nbformat": 4,
 "nbformat_minor": 4
}
